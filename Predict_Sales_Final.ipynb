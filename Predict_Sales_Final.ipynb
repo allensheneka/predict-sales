{
  "nbformat": 4,
  "nbformat_minor": 0,
  "metadata": {
    "colab": {
      "name": "Predict Sales - Final.ipynb",
      "provenance": [],
      "collapsed_sections": [],
      "authorship_tag": "ABX9TyNffMDTWnUPLGlkb4DpKzkS",
      "include_colab_link": true
    },
    "kernelspec": {
      "name": "python3",
      "display_name": "Python 3"
    },
    "language_info": {
      "name": "python"
    }
  },
  "cells": [
    {
      "cell_type": "markdown",
      "metadata": {
        "id": "view-in-github",
        "colab_type": "text"
      },
      "source": [
        "<a href=\"https://colab.research.google.com/github/allensheneka/predict-sales/blob/main/Predict_Sales_Final.ipynb\" target=\"_parent\"><img src=\"https://colab.research.google.com/assets/colab-badge.svg\" alt=\"Open In Colab\"/></a>"
      ]
    },
    {
      "cell_type": "code",
      "execution_count": 2,
      "metadata": {
        "id": "ntuO2QGYsYvG"
      },
      "outputs": [],
      "source": [
        "# import key libraries\n",
        "import pandas as pd\n",
        "import numpy as np\n",
        "import seaborn as sns\n",
        "import matplotlib.pyplot as plt\n",
        "\n",
        "#import selectors, transformers, pipeline to clean and pre-process data\n",
        "from sklearn.compose import make_column_selector, make_column_transformer\n",
        "from sklearn.pipeline import make_pipeline\n",
        "from sklearn.preprocessing import OneHotEncoder, StandardScaler\n",
        "from sklearn.impute import SimpleImputer\n",
        "\n",
        "#import TTS\n",
        "from sklearn.model_selection import train_test_split\n",
        "\n",
        "#import linear regressor model\n",
        "from sklearn.linear_model import LinearRegression\n",
        "# Import the bagging regressor model\n",
        "from sklearn.ensemble import BaggingRegressor\n",
        "# Import random forest Regressor\n",
        "from sklearn.ensemble import RandomForestRegressor\n",
        "\n",
        "#import metrics to evaluate model effectiveness\n",
        "from sklearn.metrics import r2_score\n",
        "from sklearn.metrics import mean_absolute_error\n",
        "from sklearn.metrics import mean_squared_error\n",
        "\n",
        "#import set_config to display a drawing of the ML process/pipeline\n",
        "from sklearn import set_config\n",
        "set_config(display='diagram')"
      ]
    },
    {
      "cell_type": "code",
      "source": [
        "#mount drive\n",
        "from google.colab import drive\n",
        "drive.mount('/content/drive')"
      ],
      "metadata": {
        "colab": {
          "base_uri": "https://localhost:8080/"
        },
        "id": "uRt6UgpSv5lP",
        "outputId": "8ea5c1b8-5445-418e-8c92-b4fb7c66d17a"
      },
      "execution_count": 3,
      "outputs": [
        {
          "output_type": "stream",
          "name": "stdout",
          "text": [
            "Mounted at /content/drive\n"
          ]
        }
      ]
    },
    {
      "cell_type": "code",
      "source": [
        "#upload data\n",
        "\n",
        "filename = '/content/drive/MyDrive/Data Science/sales_predictions.csv'\n",
        "df = pd.read_csv(filename)\n",
        "df.head()"
      ],
      "metadata": {
        "colab": {
          "base_uri": "https://localhost:8080/",
          "height": 357
        },
        "id": "-4QT7RtHwBze",
        "outputId": "5a961e18-3174-4df7-b562-d37fe801b271"
      },
      "execution_count": 4,
      "outputs": [
        {
          "output_type": "execute_result",
          "data": {
            "text/plain": [
              "  Item_Identifier  Item_Weight Item_Fat_Content  Item_Visibility  \\\n",
              "0           FDA15         9.30          Low Fat         0.016047   \n",
              "1           DRC01         5.92          Regular         0.019278   \n",
              "2           FDN15        17.50          Low Fat         0.016760   \n",
              "3           FDX07        19.20          Regular         0.000000   \n",
              "4           NCD19         8.93          Low Fat         0.000000   \n",
              "\n",
              "               Item_Type  Item_MRP Outlet_Identifier  \\\n",
              "0                  Dairy  249.8092            OUT049   \n",
              "1            Soft Drinks   48.2692            OUT018   \n",
              "2                   Meat  141.6180            OUT049   \n",
              "3  Fruits and Vegetables  182.0950            OUT010   \n",
              "4              Household   53.8614            OUT013   \n",
              "\n",
              "   Outlet_Establishment_Year Outlet_Size Outlet_Location_Type  \\\n",
              "0                       1999      Medium               Tier 1   \n",
              "1                       2009      Medium               Tier 3   \n",
              "2                       1999      Medium               Tier 1   \n",
              "3                       1998         NaN               Tier 3   \n",
              "4                       1987        High               Tier 3   \n",
              "\n",
              "         Outlet_Type  Item_Outlet_Sales  \n",
              "0  Supermarket Type1          3735.1380  \n",
              "1  Supermarket Type2           443.4228  \n",
              "2  Supermarket Type1          2097.2700  \n",
              "3      Grocery Store           732.3800  \n",
              "4  Supermarket Type1           994.7052  "
            ],
            "text/html": [
              "\n",
              "  <div id=\"df-70ddd62b-ae7d-4476-b523-25c28f713d0c\">\n",
              "    <div class=\"colab-df-container\">\n",
              "      <div>\n",
              "<style scoped>\n",
              "    .dataframe tbody tr th:only-of-type {\n",
              "        vertical-align: middle;\n",
              "    }\n",
              "\n",
              "    .dataframe tbody tr th {\n",
              "        vertical-align: top;\n",
              "    }\n",
              "\n",
              "    .dataframe thead th {\n",
              "        text-align: right;\n",
              "    }\n",
              "</style>\n",
              "<table border=\"1\" class=\"dataframe\">\n",
              "  <thead>\n",
              "    <tr style=\"text-align: right;\">\n",
              "      <th></th>\n",
              "      <th>Item_Identifier</th>\n",
              "      <th>Item_Weight</th>\n",
              "      <th>Item_Fat_Content</th>\n",
              "      <th>Item_Visibility</th>\n",
              "      <th>Item_Type</th>\n",
              "      <th>Item_MRP</th>\n",
              "      <th>Outlet_Identifier</th>\n",
              "      <th>Outlet_Establishment_Year</th>\n",
              "      <th>Outlet_Size</th>\n",
              "      <th>Outlet_Location_Type</th>\n",
              "      <th>Outlet_Type</th>\n",
              "      <th>Item_Outlet_Sales</th>\n",
              "    </tr>\n",
              "  </thead>\n",
              "  <tbody>\n",
              "    <tr>\n",
              "      <th>0</th>\n",
              "      <td>FDA15</td>\n",
              "      <td>9.30</td>\n",
              "      <td>Low Fat</td>\n",
              "      <td>0.016047</td>\n",
              "      <td>Dairy</td>\n",
              "      <td>249.8092</td>\n",
              "      <td>OUT049</td>\n",
              "      <td>1999</td>\n",
              "      <td>Medium</td>\n",
              "      <td>Tier 1</td>\n",
              "      <td>Supermarket Type1</td>\n",
              "      <td>3735.1380</td>\n",
              "    </tr>\n",
              "    <tr>\n",
              "      <th>1</th>\n",
              "      <td>DRC01</td>\n",
              "      <td>5.92</td>\n",
              "      <td>Regular</td>\n",
              "      <td>0.019278</td>\n",
              "      <td>Soft Drinks</td>\n",
              "      <td>48.2692</td>\n",
              "      <td>OUT018</td>\n",
              "      <td>2009</td>\n",
              "      <td>Medium</td>\n",
              "      <td>Tier 3</td>\n",
              "      <td>Supermarket Type2</td>\n",
              "      <td>443.4228</td>\n",
              "    </tr>\n",
              "    <tr>\n",
              "      <th>2</th>\n",
              "      <td>FDN15</td>\n",
              "      <td>17.50</td>\n",
              "      <td>Low Fat</td>\n",
              "      <td>0.016760</td>\n",
              "      <td>Meat</td>\n",
              "      <td>141.6180</td>\n",
              "      <td>OUT049</td>\n",
              "      <td>1999</td>\n",
              "      <td>Medium</td>\n",
              "      <td>Tier 1</td>\n",
              "      <td>Supermarket Type1</td>\n",
              "      <td>2097.2700</td>\n",
              "    </tr>\n",
              "    <tr>\n",
              "      <th>3</th>\n",
              "      <td>FDX07</td>\n",
              "      <td>19.20</td>\n",
              "      <td>Regular</td>\n",
              "      <td>0.000000</td>\n",
              "      <td>Fruits and Vegetables</td>\n",
              "      <td>182.0950</td>\n",
              "      <td>OUT010</td>\n",
              "      <td>1998</td>\n",
              "      <td>NaN</td>\n",
              "      <td>Tier 3</td>\n",
              "      <td>Grocery Store</td>\n",
              "      <td>732.3800</td>\n",
              "    </tr>\n",
              "    <tr>\n",
              "      <th>4</th>\n",
              "      <td>NCD19</td>\n",
              "      <td>8.93</td>\n",
              "      <td>Low Fat</td>\n",
              "      <td>0.000000</td>\n",
              "      <td>Household</td>\n",
              "      <td>53.8614</td>\n",
              "      <td>OUT013</td>\n",
              "      <td>1987</td>\n",
              "      <td>High</td>\n",
              "      <td>Tier 3</td>\n",
              "      <td>Supermarket Type1</td>\n",
              "      <td>994.7052</td>\n",
              "    </tr>\n",
              "  </tbody>\n",
              "</table>\n",
              "</div>\n",
              "      <button class=\"colab-df-convert\" onclick=\"convertToInteractive('df-70ddd62b-ae7d-4476-b523-25c28f713d0c')\"\n",
              "              title=\"Convert this dataframe to an interactive table.\"\n",
              "              style=\"display:none;\">\n",
              "        \n",
              "  <svg xmlns=\"http://www.w3.org/2000/svg\" height=\"24px\"viewBox=\"0 0 24 24\"\n",
              "       width=\"24px\">\n",
              "    <path d=\"M0 0h24v24H0V0z\" fill=\"none\"/>\n",
              "    <path d=\"M18.56 5.44l.94 2.06.94-2.06 2.06-.94-2.06-.94-.94-2.06-.94 2.06-2.06.94zm-11 1L8.5 8.5l.94-2.06 2.06-.94-2.06-.94L8.5 2.5l-.94 2.06-2.06.94zm10 10l.94 2.06.94-2.06 2.06-.94-2.06-.94-.94-2.06-.94 2.06-2.06.94z\"/><path d=\"M17.41 7.96l-1.37-1.37c-.4-.4-.92-.59-1.43-.59-.52 0-1.04.2-1.43.59L10.3 9.45l-7.72 7.72c-.78.78-.78 2.05 0 2.83L4 21.41c.39.39.9.59 1.41.59.51 0 1.02-.2 1.41-.59l7.78-7.78 2.81-2.81c.8-.78.8-2.07 0-2.86zM5.41 20L4 18.59l7.72-7.72 1.47 1.35L5.41 20z\"/>\n",
              "  </svg>\n",
              "      </button>\n",
              "      \n",
              "  <style>\n",
              "    .colab-df-container {\n",
              "      display:flex;\n",
              "      flex-wrap:wrap;\n",
              "      gap: 12px;\n",
              "    }\n",
              "\n",
              "    .colab-df-convert {\n",
              "      background-color: #E8F0FE;\n",
              "      border: none;\n",
              "      border-radius: 50%;\n",
              "      cursor: pointer;\n",
              "      display: none;\n",
              "      fill: #1967D2;\n",
              "      height: 32px;\n",
              "      padding: 0 0 0 0;\n",
              "      width: 32px;\n",
              "    }\n",
              "\n",
              "    .colab-df-convert:hover {\n",
              "      background-color: #E2EBFA;\n",
              "      box-shadow: 0px 1px 2px rgba(60, 64, 67, 0.3), 0px 1px 3px 1px rgba(60, 64, 67, 0.15);\n",
              "      fill: #174EA6;\n",
              "    }\n",
              "\n",
              "    [theme=dark] .colab-df-convert {\n",
              "      background-color: #3B4455;\n",
              "      fill: #D2E3FC;\n",
              "    }\n",
              "\n",
              "    [theme=dark] .colab-df-convert:hover {\n",
              "      background-color: #434B5C;\n",
              "      box-shadow: 0px 1px 3px 1px rgba(0, 0, 0, 0.15);\n",
              "      filter: drop-shadow(0px 1px 2px rgba(0, 0, 0, 0.3));\n",
              "      fill: #FFFFFF;\n",
              "    }\n",
              "  </style>\n",
              "\n",
              "      <script>\n",
              "        const buttonEl =\n",
              "          document.querySelector('#df-70ddd62b-ae7d-4476-b523-25c28f713d0c button.colab-df-convert');\n",
              "        buttonEl.style.display =\n",
              "          google.colab.kernel.accessAllowed ? 'block' : 'none';\n",
              "\n",
              "        async function convertToInteractive(key) {\n",
              "          const element = document.querySelector('#df-70ddd62b-ae7d-4476-b523-25c28f713d0c');\n",
              "          const dataTable =\n",
              "            await google.colab.kernel.invokeFunction('convertToInteractive',\n",
              "                                                     [key], {});\n",
              "          if (!dataTable) return;\n",
              "\n",
              "          const docLinkHtml = 'Like what you see? Visit the ' +\n",
              "            '<a target=\"_blank\" href=https://colab.research.google.com/notebooks/data_table.ipynb>data table notebook</a>'\n",
              "            + ' to learn more about interactive tables.';\n",
              "          element.innerHTML = '';\n",
              "          dataTable['output_type'] = 'display_data';\n",
              "          await google.colab.output.renderOutput(dataTable, element);\n",
              "          const docLink = document.createElement('div');\n",
              "          docLink.innerHTML = docLinkHtml;\n",
              "          element.appendChild(docLink);\n",
              "        }\n",
              "      </script>\n",
              "    </div>\n",
              "  </div>\n",
              "  "
            ]
          },
          "metadata": {},
          "execution_count": 4
        }
      ]
    },
    {
      "cell_type": "markdown",
      "source": [
        "##Quick Data Inspection Summary\n",
        "Missing data in outlet size, maybe others\n",
        "\n",
        "5 columns of numerical scales, i.e., item weight, item visibility, item MRP, outlet est year, item outlet sales\n",
        "\n",
        "Nominal data:  item identifier, item fat content, item type, outlet type, outlet_location_type, outlet identifier\n",
        "\n",
        "Ordinal data:  outlet size"
      ],
      "metadata": {
        "id": "yGjsEu5NxdJ2"
      }
    },
    {
      "cell_type": "code",
      "source": [
        "#  plot heatmap using \"corr\" variable for dataset\n",
        "corr = df.corr()\n",
        "\n",
        "# add correlation coefficients/numbers to heatmap with annot = True\n",
        "sns.heatmap(corr, cmap = 'Blues', annot = True);"
      ],
      "metadata": {
        "colab": {
          "base_uri": "https://localhost:8080/",
          "height": 392
        },
        "id": "6F76TUn9oOp7",
        "outputId": "7f88dff3-cfe5-48ce-fa10-6930244852ae"
      },
      "execution_count": 5,
      "outputs": [
        {
          "output_type": "display_data",
          "data": {
            "text/plain": [
              "<Figure size 432x288 with 2 Axes>"
            ],
            "image/png": "[encoded data removed]"
          },
          "metadata": {
            "needs_background": "light"
          }
        }
      ]
    },
    {
      "cell_type": "markdown",
      "source": [
        "##Inspect Data"
      ],
      "metadata": {
        "id": "QgpuenHVUkN6"
      }
    },
    {
      "cell_type": "code",
      "source": [
        "# overview of dataset\n",
        "df.info()"
      ],
      "metadata": {
        "colab": {
          "base_uri": "https://localhost:8080/"
        },
        "id": "6OTd4lyFb69Q",
        "outputId": "0e6b4e6b-f2b0-40ff-9f27-308d34db4252"
      },
      "execution_count": 6,
      "outputs": [
        {
          "output_type": "stream",
          "name": "stdout",
          "text": [
            "<class 'pandas.core.frame.DataFrame'>\n",
            "RangeIndex: 8523 entries, 0 to 8522\n",
            "Data columns (total 12 columns):\n",
            " #   Column                     Non-Null Count  Dtype  \n",
            "---  ------                     --------------  -----  \n",
            " 0   Item_Identifier            8523 non-null   object \n",
            " 1   Item_Weight                7060 non-null   float64\n",
            " 2   Item_Fat_Content           8523 non-null   object \n",
            " 3   Item_Visibility            8523 non-null   float64\n",
            " 4   Item_Type                  8523 non-null   object \n",
            " 5   Item_MRP                   8523 non-null   float64\n",
            " 6   Outlet_Identifier          8523 non-null   object \n",
            " 7   Outlet_Establishment_Year  8523 non-null   int64  \n",
            " 8   Outlet_Size                6113 non-null   object \n",
            " 9   Outlet_Location_Type       8523 non-null   object \n",
            " 10  Outlet_Type                8523 non-null   object \n",
            " 11  Item_Outlet_Sales          8523 non-null   float64\n",
            "dtypes: float64(4), int64(1), object(7)\n",
            "memory usage: 799.2+ KB\n"
          ]
        }
      ]
    },
    {
      "cell_type": "code",
      "source": [
        "# inspect missing value total\n",
        "df.isna().any(axis=1).sum()"
      ],
      "metadata": {
        "colab": {
          "base_uri": "https://localhost:8080/"
        },
        "id": "h42XRDkJcTkq",
        "outputId": "6dd30da0-1ac8-4e15-91c3-ad8e815bdae5"
      },
      "execution_count": 7,
      "outputs": [
        {
          "output_type": "execute_result",
          "data": {
            "text/plain": [
              "3873"
            ]
          },
          "metadata": {},
          "execution_count": 7
        }
      ]
    },
    {
      "cell_type": "code",
      "source": [
        "# total missing values in data columns\n",
        "df.isna().sum()"
      ],
      "metadata": {
        "colab": {
          "base_uri": "https://localhost:8080/"
        },
        "id": "BBWRlNSvdawn",
        "outputId": "c474836a-024a-485a-ebc3-5516ecf3a68c"
      },
      "execution_count": 8,
      "outputs": [
        {
          "output_type": "execute_result",
          "data": {
            "text/plain": [
              "Item_Identifier                 0\n",
              "Item_Weight                  1463\n",
              "Item_Fat_Content                0\n",
              "Item_Visibility                 0\n",
              "Item_Type                       0\n",
              "Item_MRP                        0\n",
              "Outlet_Identifier               0\n",
              "Outlet_Establishment_Year       0\n",
              "Outlet_Size                  2410\n",
              "Outlet_Location_Type            0\n",
              "Outlet_Type                     0\n",
              "Item_Outlet_Sales               0\n",
              "dtype: int64"
            ]
          },
          "metadata": {},
          "execution_count": 8
        }
      ]
    },
    {
      "cell_type": "code",
      "source": [
        "# inspect data rows and column count, i.e., shape\n",
        "df.isna().shape"
      ],
      "metadata": {
        "colab": {
          "base_uri": "https://localhost:8080/"
        },
        "id": "TOFACoJJdmti",
        "outputId": "c5a08874-30c4-4812-b748-9d194a7aa522"
      },
      "execution_count": 9,
      "outputs": [
        {
          "output_type": "execute_result",
          "data": {
            "text/plain": [
              "(8523, 12)"
            ]
          },
          "metadata": {},
          "execution_count": 9
        }
      ]
    },
    {
      "cell_type": "code",
      "source": [
        "# inspect ordinal categories\n",
        "df.Outlet_Size.value_counts()"
      ],
      "metadata": {
        "colab": {
          "base_uri": "https://localhost:8080/"
        },
        "id": "scymP2g5NXCL",
        "outputId": "a3839ed6-430e-49da-c915-0fc3703749cd"
      },
      "execution_count": 10,
      "outputs": [
        {
          "output_type": "execute_result",
          "data": {
            "text/plain": [
              "Medium    2793\n",
              "Small     2388\n",
              "High       932\n",
              "Name: Outlet_Size, dtype: int64"
            ]
          },
          "metadata": {},
          "execution_count": 10
        }
      ]
    },
    {
      "cell_type": "markdown",
      "source": [
        "3 ordinal categories for outlet size:  Small(0), Medium(1), High(2)"
      ],
      "metadata": {
        "id": "wF3ihC1TPziO"
      }
    },
    {
      "cell_type": "code",
      "source": [
        "# Ordinal Encoding 'Outlet_Size'\n",
        "replacement_dictionary = {'High':2, 'Medium':1, 'Small':0}\n",
        "df['Outlet_Size'].replace(replacement_dictionary, inplace=True)\n",
        "\n",
        "df['Outlet_Size']"
      ],
      "metadata": {
        "colab": {
          "base_uri": "https://localhost:8080/"
        },
        "id": "S9S-Rd2DR-aJ",
        "outputId": "c22d2c5a-654a-480e-de8a-976ec2a4ffcb"
      },
      "execution_count": 11,
      "outputs": [
        {
          "output_type": "execute_result",
          "data": {
            "text/plain": [
              "0       1.0\n",
              "1       1.0\n",
              "2       1.0\n",
              "3       NaN\n",
              "4       2.0\n",
              "       ... \n",
              "8518    2.0\n",
              "8519    NaN\n",
              "8520    0.0\n",
              "8521    1.0\n",
              "8522    0.0\n",
              "Name: Outlet_Size, Length: 8523, dtype: float64"
            ]
          },
          "metadata": {},
          "execution_count": 11
        }
      ]
    },
    {
      "cell_type": "markdown",
      "source": [
        "##Define X (features) and y (target)"
      ],
      "metadata": {
        "id": "boHSfN5PT35x"
      }
    },
    {
      "cell_type": "code",
      "source": [
        "# define X (features) and y (target)\n",
        "X = df.drop(columns = 'Item_Outlet_Sales')\n",
        "y = df['Item_Outlet_Sales']\n",
        "\n",
        "# train test split\n",
        "X_train, X_test, y_train, y_test = train_test_split(X, y, random_state=42)"
      ],
      "metadata": {
        "id": "1HFTC6Ate-G0"
      },
      "execution_count": 12,
      "outputs": []
    },
    {
      "cell_type": "markdown",
      "source": [
        "##Instantiate Transformers (Selectors, Imputers, OneHotEncoder)"
      ],
      "metadata": {
        "id": "FF_w3oz6T-jP"
      }
    },
    {
      "cell_type": "code",
      "source": [
        "# instantiate Selectors:  categorical (object) and numerical (number)\n",
        "cat_selector = make_column_selector(dtype_include='object')\n",
        "num_selector = make_column_selector(dtype_include='number')"
      ],
      "metadata": {
        "id": "6AE3G1M6S5mA"
      },
      "execution_count": 13,
      "outputs": []
    },
    {
      "cell_type": "code",
      "source": [
        "# instantiate Imputers:  categorical (most frequent) and numerical (mean)\n",
        "freq_imputer = SimpleImputer(strategy='most_frequent')\n",
        "mean_imputer = SimpleImputer(strategy='mean')\n",
        "\n",
        "# instantiate Scaler\n",
        "scaler = StandardScaler()\n",
        "\n",
        "# instantiate One-hot encoder\n",
        "# set 'sparse=False' to prevent returning Error on data that has not been fitted\n",
        "ohe = OneHotEncoder(handle_unknown='ignore', sparse=False)"
      ],
      "metadata": {
        "id": "vTEtZhUCTJMS"
      },
      "execution_count": 14,
      "outputs": []
    },
    {
      "cell_type": "markdown",
      "source": [
        "##Instantiate Pipelines"
      ],
      "metadata": {
        "id": "3VfgeyjkVGS1"
      }
    },
    {
      "cell_type": "code",
      "source": [
        "# Numeric pipeline\n",
        "# pass in (imputer, scaler) to combine into a pipeline\n",
        "numeric_pipe = make_pipeline(mean_imputer, scaler)\n",
        "numeric_pipe"
      ],
      "metadata": {
        "colab": {
          "base_uri": "https://localhost:8080/",
          "height": 126
        },
        "id": "LyMlomZyVLqo",
        "outputId": "038a405d-21de-4793-d159-14d36ab127b6"
      },
      "execution_count": 15,
      "outputs": [
        {
          "output_type": "execute_result",
          "data": {
            "text/plain": [
              "Pipeline(steps=[('simpleimputer', SimpleImputer()),\n",
              "                ('standardscaler', StandardScaler())])"
            ],
            "text/html": [
              "<style>#sk-5709d804-1f51-4c87-9f74-a3981c3fd022 {color: black;background-color: white;}#sk-5709d804-1f51-4c87-9f74-a3981c3fd022 pre{padding: 0;}#sk-5709d804-1f51-4c87-9f74-a3981c3fd022 div.sk-toggleable {background-color: white;}#sk-5709d804-1f51-4c87-9f74-a3981c3fd022 label.sk-toggleable__label {cursor: pointer;display: block;width: 100%;margin-bottom: 0;padding: 0.3em;box-sizing: border-box;text-align: center;}#sk-5709d804-1f51-4c87-9f74-a3981c3fd022 label.sk-toggleable__label-arrow:before {content: \"▸\";float: left;margin-right: 0.25em;color: #696969;}#sk-5709d804-1f51-4c87-9f74-a3981c3fd022 label.sk-toggleable__label-arrow:hover:before {color: black;}#sk-5709d804-1f51-4c87-9f74-a3981c3fd022 div.sk-estimator:hover label.sk-toggleable__label-arrow:before {color: black;}#sk-5709d804-1f51-4c87-9f74-a3981c3fd022 div.sk-toggleable__content {max-height: 0;max-width: 0;overflow: hidden;text-align: left;background-color: #f0f8ff;}#sk-5709d804-1f51-4c87-9f74-a3981c3fd022 div.sk-toggleable__content pre {margin: 0.2em;color: black;border-radius: 0.25em;background-color: #f0f8ff;}#sk-5709d804-1f51-4c87-9f74-a3981c3fd022 input.sk-toggleable__control:checked~div.sk-toggleable__content {max-height: 200px;max-width: 100%;overflow: auto;}#sk-5709d804-1f51-4c87-9f74-a3981c3fd022 input.sk-toggleable__control:checked~label.sk-toggleable__label-arrow:before {content: \"▾\";}#sk-5709d804-1f51-4c87-9f74-a3981c3fd022 div.sk-estimator input.sk-toggleable__control:checked~label.sk-toggleable__label {background-color: #d4ebff;}#sk-5709d804-1f51-4c87-9f74-a3981c3fd022 div.sk-label input.sk-toggleable__control:checked~label.sk-toggleable__label {background-color: #d4ebff;}#sk-5709d804-1f51-4c87-9f74-a3981c3fd022 input.sk-hidden--visually {border: 0;clip: rect(1px 1px 1px 1px);clip: rect(1px, 1px, 1px, 1px);height: 1px;margin: -1px;overflow: hidden;padding: 0;position: absolute;width: 1px;}#sk-5709d804-1f51-4c87-9f74-a3981c3fd022 div.sk-estimator {font-family: monospace;background-color: #f0f8ff;border: 1px dotted black;border-radius: 0.25em;box-sizing: border-box;margin-bottom: 0.5em;}#sk-5709d804-1f51-4c87-9f74-a3981c3fd022 div.sk-estimator:hover {background-color: #d4ebff;}#sk-5709d804-1f51-4c87-9f74-a3981c3fd022 div.sk-parallel-item::after {content: \"\";width: 100%;border-bottom: 1px solid gray;flex-grow: 1;}#sk-5709d804-1f51-4c87-9f74-a3981c3fd022 div.sk-label:hover label.sk-toggleable__label {background-color: #d4ebff;}#sk-5709d804-1f51-4c87-9f74-a3981c3fd022 div.sk-serial::before {content: \"\";position: absolute;border-left: 1px solid gray;box-sizing: border-box;top: 2em;bottom: 0;left: 50%;}#sk-5709d804-1f51-4c87-9f74-a3981c3fd022 div.sk-serial {display: flex;flex-direction: column;align-items: center;background-color: white;padding-right: 0.2em;padding-left: 0.2em;}#sk-5709d804-1f51-4c87-9f74-a3981c3fd022 div.sk-item {z-index: 1;}#sk-5709d804-1f51-4c87-9f74-a3981c3fd022 div.sk-parallel {display: flex;align-items: stretch;justify-content: center;background-color: white;}#sk-5709d804-1f51-4c87-9f74-a3981c3fd022 div.sk-parallel::before {content: \"\";position: absolute;border-left: 1px solid gray;box-sizing: border-box;top: 2em;bottom: 0;left: 50%;}#sk-5709d804-1f51-4c87-9f74-a3981c3fd022 div.sk-parallel-item {display: flex;flex-direction: column;position: relative;background-color: white;}#sk-5709d804-1f51-4c87-9f74-a3981c3fd022 div.sk-parallel-item:first-child::after {align-self: flex-end;width: 50%;}#sk-5709d804-1f51-4c87-9f74-a3981c3fd022 div.sk-parallel-item:last-child::after {align-self: flex-start;width: 50%;}#sk-5709d804-1f51-4c87-9f74-a3981c3fd022 div.sk-parallel-item:only-child::after {width: 0;}#sk-5709d804-1f51-4c87-9f74-a3981c3fd022 div.sk-dashed-wrapped {border: 1px dashed gray;margin: 0 0.4em 0.5em 0.4em;box-sizing: border-box;padding-bottom: 0.4em;background-color: white;position: relative;}#sk-5709d804-1f51-4c87-9f74-a3981c3fd022 div.sk-label label {font-family: monospace;font-weight: bold;background-color: white;display: inline-block;line-height: 1.2em;}#sk-5709d804-1f51-4c87-9f74-a3981c3fd022 div.sk-label-container {position: relative;z-index: 2;text-align: center;}#sk-5709d804-1f51-4c87-9f74-a3981c3fd022 div.sk-container {/* jupyter's `normalize.less` sets `[hidden] { display: none; }` but bootstrap.min.css set `[hidden] { display: none !important; }` so we also need the `!important` here to be able to override the default hidden behavior on the sphinx rendered scikit-learn.org. See: https://github.com/scikit-learn/scikit-learn/issues/21755 */display: inline-block !important;position: relative;}#sk-5709d804-1f51-4c87-9f74-a3981c3fd022 div.sk-text-repr-fallback {display: none;}</style><div id=\"sk-5709d804-1f51-4c87-9f74-a3981c3fd022\" class=\"sk-top-container\"><div class=\"sk-text-repr-fallback\"><pre>Pipeline(steps=[(&#x27;simpleimputer&#x27;, SimpleImputer()),\n",
              "                (&#x27;standardscaler&#x27;, StandardScaler())])</pre><b>Please rerun this cell to show the HTML repr or trust the notebook.</b></div><div class=\"sk-container\" hidden><div class=\"sk-item sk-dashed-wrapped\"><div class=\"sk-label-container\"><div class=\"sk-label sk-toggleable\"><input class=\"sk-toggleable__control sk-hidden--visually\" id=\"8213f311-00e0-4933-b60c-a987bda655a1\" type=\"checkbox\" ><label for=\"8213f311-00e0-4933-b60c-a987bda655a1\" class=\"sk-toggleable__label sk-toggleable__label-arrow\">Pipeline</label><div class=\"sk-toggleable__content\"><pre>Pipeline(steps=[(&#x27;simpleimputer&#x27;, SimpleImputer()),\n",
              "                (&#x27;standardscaler&#x27;, StandardScaler())])</pre></div></div></div><div class=\"sk-serial\"><div class=\"sk-item\"><div class=\"sk-estimator sk-toggleable\"><input class=\"sk-toggleable__control sk-hidden--visually\" id=\"e8b273f5-c7ce-4742-9769-a8fa4b9a0ab5\" type=\"checkbox\" ><label for=\"e8b273f5-c7ce-4742-9769-a8fa4b9a0ab5\" class=\"sk-toggleable__label sk-toggleable__label-arrow\">SimpleImputer</label><div class=\"sk-toggleable__content\"><pre>SimpleImputer()</pre></div></div></div><div class=\"sk-item\"><div class=\"sk-estimator sk-toggleable\"><input class=\"sk-toggleable__control sk-hidden--visually\" id=\"e63275ba-a711-4cc7-8dad-eae7e24036a9\" type=\"checkbox\" ><label for=\"e63275ba-a711-4cc7-8dad-eae7e24036a9\" class=\"sk-toggleable__label sk-toggleable__label-arrow\">StandardScaler</label><div class=\"sk-toggleable__content\"><pre>StandardScaler()</pre></div></div></div></div></div></div></div>"
            ]
          },
          "metadata": {},
          "execution_count": 15
        }
      ]
    },
    {
      "cell_type": "code",
      "source": [
        "# Categorical pipeline\n",
        "# pass in (imputer, ohe) to combine into a pipeline\n",
        "categorical_pipe = make_pipeline(freq_imputer, ohe)\n",
        "categorical_pipe\n"
      ],
      "metadata": {
        "colab": {
          "base_uri": "https://localhost:8080/",
          "height": 126
        },
        "id": "9iFrKAEDWRAB",
        "outputId": "1aa2c879-a96c-4e4f-83d3-a8526539e6a9"
      },
      "execution_count": 16,
      "outputs": [
        {
          "output_type": "execute_result",
          "data": {
            "text/plain": [
              "Pipeline(steps=[('simpleimputer', SimpleImputer(strategy='most_frequent')),\n",
              "                ('onehotencoder',\n",
              "                 OneHotEncoder(handle_unknown='ignore', sparse=False))])"
            ],
            "text/html": [
              "<style>#sk-f168bbb8-a1d4-47f0-9434-038be72f8658 {color: black;background-color: white;}#sk-f168bbb8-a1d4-47f0-9434-038be72f8658 pre{padding: 0;}#sk-f168bbb8-a1d4-47f0-9434-038be72f8658 div.sk-toggleable {background-color: white;}#sk-f168bbb8-a1d4-47f0-9434-038be72f8658 label.sk-toggleable__label {cursor: pointer;display: block;width: 100%;margin-bottom: 0;padding: 0.3em;box-sizing: border-box;text-align: center;}#sk-f168bbb8-a1d4-47f0-9434-038be72f8658 label.sk-toggleable__label-arrow:before {content: \"▸\";float: left;margin-right: 0.25em;color: #696969;}#sk-f168bbb8-a1d4-47f0-9434-038be72f8658 label.sk-toggleable__label-arrow:hover:before {color: black;}#sk-f168bbb8-a1d4-47f0-9434-038be72f8658 div.sk-estimator:hover label.sk-toggleable__label-arrow:before {color: black;}#sk-f168bbb8-a1d4-47f0-9434-038be72f8658 div.sk-toggleable__content {max-height: 0;max-width: 0;overflow: hidden;text-align: left;background-color: #f0f8ff;}#sk-f168bbb8-a1d4-47f0-9434-038be72f8658 div.sk-toggleable__content pre {margin: 0.2em;color: black;border-radius: 0.25em;background-color: #f0f8ff;}#sk-f168bbb8-a1d4-47f0-9434-038be72f8658 input.sk-toggleable__control:checked~div.sk-toggleable__content {max-height: 200px;max-width: 100%;overflow: auto;}#sk-f168bbb8-a1d4-47f0-9434-038be72f8658 input.sk-toggleable__control:checked~label.sk-toggleable__label-arrow:before {content: \"▾\";}#sk-f168bbb8-a1d4-47f0-9434-038be72f8658 div.sk-estimator input.sk-toggleable__control:checked~label.sk-toggleable__label {background-color: #d4ebff;}#sk-f168bbb8-a1d4-47f0-9434-038be72f8658 div.sk-label input.sk-toggleable__control:checked~label.sk-toggleable__label {background-color: #d4ebff;}#sk-f168bbb8-a1d4-47f0-9434-038be72f8658 input.sk-hidden--visually {border: 0;clip: rect(1px 1px 1px 1px);clip: rect(1px, 1px, 1px, 1px);height: 1px;margin: -1px;overflow: hidden;padding: 0;position: absolute;width: 1px;}#sk-f168bbb8-a1d4-47f0-9434-038be72f8658 div.sk-estimator {font-family: monospace;background-color: #f0f8ff;border: 1px dotted black;border-radius: 0.25em;box-sizing: border-box;margin-bottom: 0.5em;}#sk-f168bbb8-a1d4-47f0-9434-038be72f8658 div.sk-estimator:hover {background-color: #d4ebff;}#sk-f168bbb8-a1d4-47f0-9434-038be72f8658 div.sk-parallel-item::after {content: \"\";width: 100%;border-bottom: 1px solid gray;flex-grow: 1;}#sk-f168bbb8-a1d4-47f0-9434-038be72f8658 div.sk-label:hover label.sk-toggleable__label {background-color: #d4ebff;}#sk-f168bbb8-a1d4-47f0-9434-038be72f8658 div.sk-serial::before {content: \"\";position: absolute;border-left: 1px solid gray;box-sizing: border-box;top: 2em;bottom: 0;left: 50%;}#sk-f168bbb8-a1d4-47f0-9434-038be72f8658 div.sk-serial {display: flex;flex-direction: column;align-items: center;background-color: white;padding-right: 0.2em;padding-left: 0.2em;}#sk-f168bbb8-a1d4-47f0-9434-038be72f8658 div.sk-item {z-index: 1;}#sk-f168bbb8-a1d4-47f0-9434-038be72f8658 div.sk-parallel {display: flex;align-items: stretch;justify-content: center;background-color: white;}#sk-f168bbb8-a1d4-47f0-9434-038be72f8658 div.sk-parallel::before {content: \"\";position: absolute;border-left: 1px solid gray;box-sizing: border-box;top: 2em;bottom: 0;left: 50%;}#sk-f168bbb8-a1d4-47f0-9434-038be72f8658 div.sk-parallel-item {display: flex;flex-direction: column;position: relative;background-color: white;}#sk-f168bbb8-a1d4-47f0-9434-038be72f8658 div.sk-parallel-item:first-child::after {align-self: flex-end;width: 50%;}#sk-f168bbb8-a1d4-47f0-9434-038be72f8658 div.sk-parallel-item:last-child::after {align-self: flex-start;width: 50%;}#sk-f168bbb8-a1d4-47f0-9434-038be72f8658 div.sk-parallel-item:only-child::after {width: 0;}#sk-f168bbb8-a1d4-47f0-9434-038be72f8658 div.sk-dashed-wrapped {border: 1px dashed gray;margin: 0 0.4em 0.5em 0.4em;box-sizing: border-box;padding-bottom: 0.4em;background-color: white;position: relative;}#sk-f168bbb8-a1d4-47f0-9434-038be72f8658 div.sk-label label {font-family: monospace;font-weight: bold;background-color: white;display: inline-block;line-height: 1.2em;}#sk-f168bbb8-a1d4-47f0-9434-038be72f8658 div.sk-label-container {position: relative;z-index: 2;text-align: center;}#sk-f168bbb8-a1d4-47f0-9434-038be72f8658 div.sk-container {/* jupyter's `normalize.less` sets `[hidden] { display: none; }` but bootstrap.min.css set `[hidden] { display: none !important; }` so we also need the `!important` here to be able to override the default hidden behavior on the sphinx rendered scikit-learn.org. See: https://github.com/scikit-learn/scikit-learn/issues/21755 */display: inline-block !important;position: relative;}#sk-f168bbb8-a1d4-47f0-9434-038be72f8658 div.sk-text-repr-fallback {display: none;}</style><div id=\"sk-f168bbb8-a1d4-47f0-9434-038be72f8658\" class=\"sk-top-container\"><div class=\"sk-text-repr-fallback\"><pre>Pipeline(steps=[(&#x27;simpleimputer&#x27;, SimpleImputer(strategy=&#x27;most_frequent&#x27;)),\n",
              "                (&#x27;onehotencoder&#x27;,\n",
              "                 OneHotEncoder(handle_unknown=&#x27;ignore&#x27;, sparse=False))])</pre><b>Please rerun this cell to show the HTML repr or trust the notebook.</b></div><div class=\"sk-container\" hidden><div class=\"sk-item sk-dashed-wrapped\"><div class=\"sk-label-container\"><div class=\"sk-label sk-toggleable\"><input class=\"sk-toggleable__control sk-hidden--visually\" id=\"0ae61afe-cd14-421d-9ee9-6ea23c939a6f\" type=\"checkbox\" ><label for=\"0ae61afe-cd14-421d-9ee9-6ea23c939a6f\" class=\"sk-toggleable__label sk-toggleable__label-arrow\">Pipeline</label><div class=\"sk-toggleable__content\"><pre>Pipeline(steps=[(&#x27;simpleimputer&#x27;, SimpleImputer(strategy=&#x27;most_frequent&#x27;)),\n",
              "                (&#x27;onehotencoder&#x27;,\n",
              "                 OneHotEncoder(handle_unknown=&#x27;ignore&#x27;, sparse=False))])</pre></div></div></div><div class=\"sk-serial\"><div class=\"sk-item\"><div class=\"sk-estimator sk-toggleable\"><input class=\"sk-toggleable__control sk-hidden--visually\" id=\"ab108b0a-75da-4e42-bd10-565cfd6e1d33\" type=\"checkbox\" ><label for=\"ab108b0a-75da-4e42-bd10-565cfd6e1d33\" class=\"sk-toggleable__label sk-toggleable__label-arrow\">SimpleImputer</label><div class=\"sk-toggleable__content\"><pre>SimpleImputer(strategy=&#x27;most_frequent&#x27;)</pre></div></div></div><div class=\"sk-item\"><div class=\"sk-estimator sk-toggleable\"><input class=\"sk-toggleable__control sk-hidden--visually\" id=\"95648bbc-8293-4c0a-88d7-d6e9153c4b4b\" type=\"checkbox\" ><label for=\"95648bbc-8293-4c0a-88d7-d6e9153c4b4b\" class=\"sk-toggleable__label sk-toggleable__label-arrow\">OneHotEncoder</label><div class=\"sk-toggleable__content\"><pre>OneHotEncoder(handle_unknown=&#x27;ignore&#x27;, sparse=False)</pre></div></div></div></div></div></div></div>"
            ]
          },
          "metadata": {},
          "execution_count": 16
        }
      ]
    },
    {
      "cell_type": "markdown",
      "source": [
        "##Instantiate ColumnTransformer and Create one Preprocessing Object"
      ],
      "metadata": {
        "id": "72HwiCRzXMms"
      }
    },
    {
      "cell_type": "code",
      "source": [
        "# instantiate tuples for Column Transformer\n",
        "# create tuple by passing in parameters (imputer, selector)\n",
        "number_tuple = (numeric_pipe, num_selector)\n",
        "category_tuple = (categorical_pipe, cat_selector)\n",
        "\n",
        "# instantiate ColumnTransformer\n",
        "# all preprocessing is in ONE preprocessing object\n",
        "preprocessor = make_column_transformer(number_tuple, category_tuple)\n",
        "preprocessor"
      ],
      "metadata": {
        "colab": {
          "base_uri": "https://localhost:8080/",
          "height": 152
        },
        "id": "CatK2M1CXDzU",
        "outputId": "120f2739-70dd-4d4d-f388-ade847362520"
      },
      "execution_count": 18,
      "outputs": [
        {
          "output_type": "execute_result",
          "data": {
            "text/plain": [
              "ColumnTransformer(transformers=[('pipeline-1',\n",
              "                                 Pipeline(steps=[('simpleimputer',\n",
              "                                                  SimpleImputer()),\n",
              "                                                 ('standardscaler',\n",
              "                                                  StandardScaler())]),\n",
              "                                 <sklearn.compose._column_transformer.make_column_selector object at 0x7f3237c52dd0>),\n",
              "                                ('pipeline-2',\n",
              "                                 Pipeline(steps=[('simpleimputer',\n",
              "                                                  SimpleImputer(strategy='most_frequent')),\n",
              "                                                 ('onehotencoder',\n",
              "                                                  OneHotEncoder(handle_unknown='ignore',\n",
              "                                                                sparse=False))]),\n",
              "                                 <sklearn.compose._column_transformer.make_column_selector object at 0x7f3237c52c90>)])"
            ],
            "text/html": [
              "<style>#sk-d8719f21-703c-4fae-8d46-654714128b63 {color: black;background-color: white;}#sk-d8719f21-703c-4fae-8d46-654714128b63 pre{padding: 0;}#sk-d8719f21-703c-4fae-8d46-654714128b63 div.sk-toggleable {background-color: white;}#sk-d8719f21-703c-4fae-8d46-654714128b63 label.sk-toggleable__label {cursor: pointer;display: block;width: 100%;margin-bottom: 0;padding: 0.3em;box-sizing: border-box;text-align: center;}#sk-d8719f21-703c-4fae-8d46-654714128b63 label.sk-toggleable__label-arrow:before {content: \"▸\";float: left;margin-right: 0.25em;color: #696969;}#sk-d8719f21-703c-4fae-8d46-654714128b63 label.sk-toggleable__label-arrow:hover:before {color: black;}#sk-d8719f21-703c-4fae-8d46-654714128b63 div.sk-estimator:hover label.sk-toggleable__label-arrow:before {color: black;}#sk-d8719f21-703c-4fae-8d46-654714128b63 div.sk-toggleable__content {max-height: 0;max-width: 0;overflow: hidden;text-align: left;background-color: #f0f8ff;}#sk-d8719f21-703c-4fae-8d46-654714128b63 div.sk-toggleable__content pre {margin: 0.2em;color: black;border-radius: 0.25em;background-color: #f0f8ff;}#sk-d8719f21-703c-4fae-8d46-654714128b63 input.sk-toggleable__control:checked~div.sk-toggleable__content {max-height: 200px;max-width: 100%;overflow: auto;}#sk-d8719f21-703c-4fae-8d46-654714128b63 input.sk-toggleable__control:checked~label.sk-toggleable__label-arrow:before {content: \"▾\";}#sk-d8719f21-703c-4fae-8d46-654714128b63 div.sk-estimator input.sk-toggleable__control:checked~label.sk-toggleable__label {background-color: #d4ebff;}#sk-d8719f21-703c-4fae-8d46-654714128b63 div.sk-label input.sk-toggleable__control:checked~label.sk-toggleable__label {background-color: #d4ebff;}#sk-d8719f21-703c-4fae-8d46-654714128b63 input.sk-hidden--visually {border: 0;clip: rect(1px 1px 1px 1px);clip: rect(1px, 1px, 1px, 1px);height: 1px;margin: -1px;overflow: hidden;padding: 0;position: absolute;width: 1px;}#sk-d8719f21-703c-4fae-8d46-654714128b63 div.sk-estimator {font-family: monospace;background-color: #f0f8ff;border: 1px dotted black;border-radius: 0.25em;box-sizing: border-box;margin-bottom: 0.5em;}#sk-d8719f21-703c-4fae-8d46-654714128b63 div.sk-estimator:hover {background-color: #d4ebff;}#sk-d8719f21-703c-4fae-8d46-654714128b63 div.sk-parallel-item::after {content: \"\";width: 100%;border-bottom: 1px solid gray;flex-grow: 1;}#sk-d8719f21-703c-4fae-8d46-654714128b63 div.sk-label:hover label.sk-toggleable__label {background-color: #d4ebff;}#sk-d8719f21-703c-4fae-8d46-654714128b63 div.sk-serial::before {content: \"\";position: absolute;border-left: 1px solid gray;box-sizing: border-box;top: 2em;bottom: 0;left: 50%;}#sk-d8719f21-703c-4fae-8d46-654714128b63 div.sk-serial {display: flex;flex-direction: column;align-items: center;background-color: white;padding-right: 0.2em;padding-left: 0.2em;}#sk-d8719f21-703c-4fae-8d46-654714128b63 div.sk-item {z-index: 1;}#sk-d8719f21-703c-4fae-8d46-654714128b63 div.sk-parallel {display: flex;align-items: stretch;justify-content: center;background-color: white;}#sk-d8719f21-703c-4fae-8d46-654714128b63 div.sk-parallel::before {content: \"\";position: absolute;border-left: 1px solid gray;box-sizing: border-box;top: 2em;bottom: 0;left: 50%;}#sk-d8719f21-703c-4fae-8d46-654714128b63 div.sk-parallel-item {display: flex;flex-direction: column;position: relative;background-color: white;}#sk-d8719f21-703c-4fae-8d46-654714128b63 div.sk-parallel-item:first-child::after {align-self: flex-end;width: 50%;}#sk-d8719f21-703c-4fae-8d46-654714128b63 div.sk-parallel-item:last-child::after {align-self: flex-start;width: 50%;}#sk-d8719f21-703c-4fae-8d46-654714128b63 div.sk-parallel-item:only-child::after {width: 0;}#sk-d8719f21-703c-4fae-8d46-654714128b63 div.sk-dashed-wrapped {border: 1px dashed gray;margin: 0 0.4em 0.5em 0.4em;box-sizing: border-box;padding-bottom: 0.4em;background-color: white;position: relative;}#sk-d8719f21-703c-4fae-8d46-654714128b63 div.sk-label label {font-family: monospace;font-weight: bold;background-color: white;display: inline-block;line-height: 1.2em;}#sk-d8719f21-703c-4fae-8d46-654714128b63 div.sk-label-container {position: relative;z-index: 2;text-align: center;}#sk-d8719f21-703c-4fae-8d46-654714128b63 div.sk-container {/* jupyter's `normalize.less` sets `[hidden] { display: none; }` but bootstrap.min.css set `[hidden] { display: none !important; }` so we also need the `!important` here to be able to override the default hidden behavior on the sphinx rendered scikit-learn.org. See: https://github.com/scikit-learn/scikit-learn/issues/21755 */display: inline-block !important;position: relative;}#sk-d8719f21-703c-4fae-8d46-654714128b63 div.sk-text-repr-fallback {display: none;}</style><div id=\"sk-d8719f21-703c-4fae-8d46-654714128b63\" class=\"sk-top-container\"><div class=\"sk-text-repr-fallback\"><pre>ColumnTransformer(transformers=[(&#x27;pipeline-1&#x27;,\n",
              "                                 Pipeline(steps=[(&#x27;simpleimputer&#x27;,\n",
              "                                                  SimpleImputer()),\n",
              "                                                 (&#x27;standardscaler&#x27;,\n",
              "                                                  StandardScaler())]),\n",
              "                                 &lt;sklearn.compose._column_transformer.make_column_selector object at 0x7f3237c52dd0&gt;),\n",
              "                                (&#x27;pipeline-2&#x27;,\n",
              "                                 Pipeline(steps=[(&#x27;simpleimputer&#x27;,\n",
              "                                                  SimpleImputer(strategy=&#x27;most_frequent&#x27;)),\n",
              "                                                 (&#x27;onehotencoder&#x27;,\n",
              "                                                  OneHotEncoder(handle_unknown=&#x27;ignore&#x27;,\n",
              "                                                                sparse=False))]),\n",
              "                                 &lt;sklearn.compose._column_transformer.make_column_selector object at 0x7f3237c52c90&gt;)])</pre><b>Please rerun this cell to show the HTML repr or trust the notebook.</b></div><div class=\"sk-container\" hidden><div class=\"sk-item sk-dashed-wrapped\"><div class=\"sk-label-container\"><div class=\"sk-label sk-toggleable\"><input class=\"sk-toggleable__control sk-hidden--visually\" id=\"bd96db18-9d0b-45a0-b1ba-1e907e142865\" type=\"checkbox\" ><label for=\"bd96db18-9d0b-45a0-b1ba-1e907e142865\" class=\"sk-toggleable__label sk-toggleable__label-arrow\">ColumnTransformer</label><div class=\"sk-toggleable__content\"><pre>ColumnTransformer(transformers=[(&#x27;pipeline-1&#x27;,\n",
              "                                 Pipeline(steps=[(&#x27;simpleimputer&#x27;,\n",
              "                                                  SimpleImputer()),\n",
              "                                                 (&#x27;standardscaler&#x27;,\n",
              "                                                  StandardScaler())]),\n",
              "                                 &lt;sklearn.compose._column_transformer.make_column_selector object at 0x7f3237c52dd0&gt;),\n",
              "                                (&#x27;pipeline-2&#x27;,\n",
              "                                 Pipeline(steps=[(&#x27;simpleimputer&#x27;,\n",
              "                                                  SimpleImputer(strategy=&#x27;most_frequent&#x27;)),\n",
              "                                                 (&#x27;onehotencoder&#x27;,\n",
              "                                                  OneHotEncoder(handle_unknown=&#x27;ignore&#x27;,\n",
              "                                                                sparse=False))]),\n",
              "                                 &lt;sklearn.compose._column_transformer.make_column_selector object at 0x7f3237c52c90&gt;)])</pre></div></div></div><div class=\"sk-parallel\"><div class=\"sk-parallel-item\"><div class=\"sk-item\"><div class=\"sk-label-container\"><div class=\"sk-label sk-toggleable\"><input class=\"sk-toggleable__control sk-hidden--visually\" id=\"eb1d4a8e-bf1d-4b23-801c-dad3271c1a74\" type=\"checkbox\" ><label for=\"eb1d4a8e-bf1d-4b23-801c-dad3271c1a74\" class=\"sk-toggleable__label sk-toggleable__label-arrow\">pipeline-1</label><div class=\"sk-toggleable__content\"><pre>&lt;sklearn.compose._column_transformer.make_column_selector object at 0x7f3237c52dd0&gt;</pre></div></div></div><div class=\"sk-serial\"><div class=\"sk-item\"><div class=\"sk-serial\"><div class=\"sk-item\"><div class=\"sk-estimator sk-toggleable\"><input class=\"sk-toggleable__control sk-hidden--visually\" id=\"72742eeb-6b87-4114-9786-da6f3800009e\" type=\"checkbox\" ><label for=\"72742eeb-6b87-4114-9786-da6f3800009e\" class=\"sk-toggleable__label sk-toggleable__label-arrow\">SimpleImputer</label><div class=\"sk-toggleable__content\"><pre>SimpleImputer()</pre></div></div></div><div class=\"sk-item\"><div class=\"sk-estimator sk-toggleable\"><input class=\"sk-toggleable__control sk-hidden--visually\" id=\"93095624-c998-4c67-adb5-a76b14a7580b\" type=\"checkbox\" ><label for=\"93095624-c998-4c67-adb5-a76b14a7580b\" class=\"sk-toggleable__label sk-toggleable__label-arrow\">StandardScaler</label><div class=\"sk-toggleable__content\"><pre>StandardScaler()</pre></div></div></div></div></div></div></div></div><div class=\"sk-parallel-item\"><div class=\"sk-item\"><div class=\"sk-label-container\"><div class=\"sk-label sk-toggleable\"><input class=\"sk-toggleable__control sk-hidden--visually\" id=\"f79c44c2-e780-45b1-8803-1a3410ab1d72\" type=\"checkbox\" ><label for=\"f79c44c2-e780-45b1-8803-1a3410ab1d72\" class=\"sk-toggleable__label sk-toggleable__label-arrow\">pipeline-2</label><div class=\"sk-toggleable__content\"><pre>&lt;sklearn.compose._column_transformer.make_column_selector object at 0x7f3237c52c90&gt;</pre></div></div></div><div class=\"sk-serial\"><div class=\"sk-item\"><div class=\"sk-serial\"><div class=\"sk-item\"><div class=\"sk-estimator sk-toggleable\"><input class=\"sk-toggleable__control sk-hidden--visually\" id=\"0f5fd0c8-9fdc-4571-8dcf-7570c7a1a46a\" type=\"checkbox\" ><label for=\"0f5fd0c8-9fdc-4571-8dcf-7570c7a1a46a\" class=\"sk-toggleable__label sk-toggleable__label-arrow\">SimpleImputer</label><div class=\"sk-toggleable__content\"><pre>SimpleImputer(strategy=&#x27;most_frequent&#x27;)</pre></div></div></div><div class=\"sk-item\"><div class=\"sk-estimator sk-toggleable\"><input class=\"sk-toggleable__control sk-hidden--visually\" id=\"eb8ea5c8-f50a-4db5-8349-2a3bbcd06b50\" type=\"checkbox\" ><label for=\"eb8ea5c8-f50a-4db5-8349-2a3bbcd06b50\" class=\"sk-toggleable__label sk-toggleable__label-arrow\">OneHotEncoder</label><div class=\"sk-toggleable__content\"><pre>OneHotEncoder(handle_unknown=&#x27;ignore&#x27;, sparse=False)</pre></div></div></div></div></div></div></div></div></div></div></div></div>"
            ]
          },
          "metadata": {},
          "execution_count": 18
        }
      ]
    },
    {
      "cell_type": "code",
      "source": [
        "# fit preprocessor on the training data\n",
        "preprocessor.fit(X_train)"
      ],
      "metadata": {
        "colab": {
          "base_uri": "https://localhost:8080/",
          "height": 152
        },
        "id": "4ChJJIKNbA18",
        "outputId": "23990295-6596-4846-ad16-d3832862e7f3"
      },
      "execution_count": 19,
      "outputs": [
        {
          "output_type": "execute_result",
          "data": {
            "text/plain": [
              "ColumnTransformer(transformers=[('pipeline-1',\n",
              "                                 Pipeline(steps=[('simpleimputer',\n",
              "                                                  SimpleImputer()),\n",
              "                                                 ('standardscaler',\n",
              "                                                  StandardScaler())]),\n",
              "                                 <sklearn.compose._column_transformer.make_column_selector object at 0x7f3237c52dd0>),\n",
              "                                ('pipeline-2',\n",
              "                                 Pipeline(steps=[('simpleimputer',\n",
              "                                                  SimpleImputer(strategy='most_frequent')),\n",
              "                                                 ('onehotencoder',\n",
              "                                                  OneHotEncoder(handle_unknown='ignore',\n",
              "                                                                sparse=False))]),\n",
              "                                 <sklearn.compose._column_transformer.make_column_selector object at 0x7f3237c52c90>)])"
            ],
            "text/html": [
              "<style>#sk-fc830359-be90-492b-9cc9-5983b775a12f {color: black;background-color: white;}#sk-fc830359-be90-492b-9cc9-5983b775a12f pre{padding: 0;}#sk-fc830359-be90-492b-9cc9-5983b775a12f div.sk-toggleable {background-color: white;}#sk-fc830359-be90-492b-9cc9-5983b775a12f label.sk-toggleable__label {cursor: pointer;display: block;width: 100%;margin-bottom: 0;padding: 0.3em;box-sizing: border-box;text-align: center;}#sk-fc830359-be90-492b-9cc9-5983b775a12f label.sk-toggleable__label-arrow:before {content: \"▸\";float: left;margin-right: 0.25em;color: #696969;}#sk-fc830359-be90-492b-9cc9-5983b775a12f label.sk-toggleable__label-arrow:hover:before {color: black;}#sk-fc830359-be90-492b-9cc9-5983b775a12f div.sk-estimator:hover label.sk-toggleable__label-arrow:before {color: black;}#sk-fc830359-be90-492b-9cc9-5983b775a12f div.sk-toggleable__content {max-height: 0;max-width: 0;overflow: hidden;text-align: left;background-color: #f0f8ff;}#sk-fc830359-be90-492b-9cc9-5983b775a12f div.sk-toggleable__content pre {margin: 0.2em;color: black;border-radius: 0.25em;background-color: #f0f8ff;}#sk-fc830359-be90-492b-9cc9-5983b775a12f input.sk-toggleable__control:checked~div.sk-toggleable__content {max-height: 200px;max-width: 100%;overflow: auto;}#sk-fc830359-be90-492b-9cc9-5983b775a12f input.sk-toggleable__control:checked~label.sk-toggleable__label-arrow:before {content: \"▾\";}#sk-fc830359-be90-492b-9cc9-5983b775a12f div.sk-estimator input.sk-toggleable__control:checked~label.sk-toggleable__label {background-color: #d4ebff;}#sk-fc830359-be90-492b-9cc9-5983b775a12f div.sk-label input.sk-toggleable__control:checked~label.sk-toggleable__label {background-color: #d4ebff;}#sk-fc830359-be90-492b-9cc9-5983b775a12f input.sk-hidden--visually {border: 0;clip: rect(1px 1px 1px 1px);clip: rect(1px, 1px, 1px, 1px);height: 1px;margin: -1px;overflow: hidden;padding: 0;position: absolute;width: 1px;}#sk-fc830359-be90-492b-9cc9-5983b775a12f div.sk-estimator {font-family: monospace;background-color: #f0f8ff;border: 1px dotted black;border-radius: 0.25em;box-sizing: border-box;margin-bottom: 0.5em;}#sk-fc830359-be90-492b-9cc9-5983b775a12f div.sk-estimator:hover {background-color: #d4ebff;}#sk-fc830359-be90-492b-9cc9-5983b775a12f div.sk-parallel-item::after {content: \"\";width: 100%;border-bottom: 1px solid gray;flex-grow: 1;}#sk-fc830359-be90-492b-9cc9-5983b775a12f div.sk-label:hover label.sk-toggleable__label {background-color: #d4ebff;}#sk-fc830359-be90-492b-9cc9-5983b775a12f div.sk-serial::before {content: \"\";position: absolute;border-left: 1px solid gray;box-sizing: border-box;top: 2em;bottom: 0;left: 50%;}#sk-fc830359-be90-492b-9cc9-5983b775a12f div.sk-serial {display: flex;flex-direction: column;align-items: center;background-color: white;padding-right: 0.2em;padding-left: 0.2em;}#sk-fc830359-be90-492b-9cc9-5983b775a12f div.sk-item {z-index: 1;}#sk-fc830359-be90-492b-9cc9-5983b775a12f div.sk-parallel {display: flex;align-items: stretch;justify-content: center;background-color: white;}#sk-fc830359-be90-492b-9cc9-5983b775a12f div.sk-parallel::before {content: \"\";position: absolute;border-left: 1px solid gray;box-sizing: border-box;top: 2em;bottom: 0;left: 50%;}#sk-fc830359-be90-492b-9cc9-5983b775a12f div.sk-parallel-item {display: flex;flex-direction: column;position: relative;background-color: white;}#sk-fc830359-be90-492b-9cc9-5983b775a12f div.sk-parallel-item:first-child::after {align-self: flex-end;width: 50%;}#sk-fc830359-be90-492b-9cc9-5983b775a12f div.sk-parallel-item:last-child::after {align-self: flex-start;width: 50%;}#sk-fc830359-be90-492b-9cc9-5983b775a12f div.sk-parallel-item:only-child::after {width: 0;}#sk-fc830359-be90-492b-9cc9-5983b775a12f div.sk-dashed-wrapped {border: 1px dashed gray;margin: 0 0.4em 0.5em 0.4em;box-sizing: border-box;padding-bottom: 0.4em;background-color: white;position: relative;}#sk-fc830359-be90-492b-9cc9-5983b775a12f div.sk-label label {font-family: monospace;font-weight: bold;background-color: white;display: inline-block;line-height: 1.2em;}#sk-fc830359-be90-492b-9cc9-5983b775a12f div.sk-label-container {position: relative;z-index: 2;text-align: center;}#sk-fc830359-be90-492b-9cc9-5983b775a12f div.sk-container {/* jupyter's `normalize.less` sets `[hidden] { display: none; }` but bootstrap.min.css set `[hidden] { display: none !important; }` so we also need the `!important` here to be able to override the default hidden behavior on the sphinx rendered scikit-learn.org. See: https://github.com/scikit-learn/scikit-learn/issues/21755 */display: inline-block !important;position: relative;}#sk-fc830359-be90-492b-9cc9-5983b775a12f div.sk-text-repr-fallback {display: none;}</style><div id=\"sk-fc830359-be90-492b-9cc9-5983b775a12f\" class=\"sk-top-container\"><div class=\"sk-text-repr-fallback\"><pre>ColumnTransformer(transformers=[(&#x27;pipeline-1&#x27;,\n",
              "                                 Pipeline(steps=[(&#x27;simpleimputer&#x27;,\n",
              "                                                  SimpleImputer()),\n",
              "                                                 (&#x27;standardscaler&#x27;,\n",
              "                                                  StandardScaler())]),\n",
              "                                 &lt;sklearn.compose._column_transformer.make_column_selector object at 0x7f3237c52dd0&gt;),\n",
              "                                (&#x27;pipeline-2&#x27;,\n",
              "                                 Pipeline(steps=[(&#x27;simpleimputer&#x27;,\n",
              "                                                  SimpleImputer(strategy=&#x27;most_frequent&#x27;)),\n",
              "                                                 (&#x27;onehotencoder&#x27;,\n",
              "                                                  OneHotEncoder(handle_unknown=&#x27;ignore&#x27;,\n",
              "                                                                sparse=False))]),\n",
              "                                 &lt;sklearn.compose._column_transformer.make_column_selector object at 0x7f3237c52c90&gt;)])</pre><b>Please rerun this cell to show the HTML repr or trust the notebook.</b></div><div class=\"sk-container\" hidden><div class=\"sk-item sk-dashed-wrapped\"><div class=\"sk-label-container\"><div class=\"sk-label sk-toggleable\"><input class=\"sk-toggleable__control sk-hidden--visually\" id=\"af40b23b-9a32-4c2b-8f9a-1a4eb0c778a1\" type=\"checkbox\" ><label for=\"af40b23b-9a32-4c2b-8f9a-1a4eb0c778a1\" class=\"sk-toggleable__label sk-toggleable__label-arrow\">ColumnTransformer</label><div class=\"sk-toggleable__content\"><pre>ColumnTransformer(transformers=[(&#x27;pipeline-1&#x27;,\n",
              "                                 Pipeline(steps=[(&#x27;simpleimputer&#x27;,\n",
              "                                                  SimpleImputer()),\n",
              "                                                 (&#x27;standardscaler&#x27;,\n",
              "                                                  StandardScaler())]),\n",
              "                                 &lt;sklearn.compose._column_transformer.make_column_selector object at 0x7f3237c52dd0&gt;),\n",
              "                                (&#x27;pipeline-2&#x27;,\n",
              "                                 Pipeline(steps=[(&#x27;simpleimputer&#x27;,\n",
              "                                                  SimpleImputer(strategy=&#x27;most_frequent&#x27;)),\n",
              "                                                 (&#x27;onehotencoder&#x27;,\n",
              "                                                  OneHotEncoder(handle_unknown=&#x27;ignore&#x27;,\n",
              "                                                                sparse=False))]),\n",
              "                                 &lt;sklearn.compose._column_transformer.make_column_selector object at 0x7f3237c52c90&gt;)])</pre></div></div></div><div class=\"sk-parallel\"><div class=\"sk-parallel-item\"><div class=\"sk-item\"><div class=\"sk-label-container\"><div class=\"sk-label sk-toggleable\"><input class=\"sk-toggleable__control sk-hidden--visually\" id=\"4f99f927-baef-4ff3-a511-3c921fb64137\" type=\"checkbox\" ><label for=\"4f99f927-baef-4ff3-a511-3c921fb64137\" class=\"sk-toggleable__label sk-toggleable__label-arrow\">pipeline-1</label><div class=\"sk-toggleable__content\"><pre>&lt;sklearn.compose._column_transformer.make_column_selector object at 0x7f3237c52dd0&gt;</pre></div></div></div><div class=\"sk-serial\"><div class=\"sk-item\"><div class=\"sk-serial\"><div class=\"sk-item\"><div class=\"sk-estimator sk-toggleable\"><input class=\"sk-toggleable__control sk-hidden--visually\" id=\"471dfadc-2c67-49ac-9510-4803ffe95d59\" type=\"checkbox\" ><label for=\"471dfadc-2c67-49ac-9510-4803ffe95d59\" class=\"sk-toggleable__label sk-toggleable__label-arrow\">SimpleImputer</label><div class=\"sk-toggleable__content\"><pre>SimpleImputer()</pre></div></div></div><div class=\"sk-item\"><div class=\"sk-estimator sk-toggleable\"><input class=\"sk-toggleable__control sk-hidden--visually\" id=\"2a766120-3bb9-402c-b2de-3f7b2b72b94a\" type=\"checkbox\" ><label for=\"2a766120-3bb9-402c-b2de-3f7b2b72b94a\" class=\"sk-toggleable__label sk-toggleable__label-arrow\">StandardScaler</label><div class=\"sk-toggleable__content\"><pre>StandardScaler()</pre></div></div></div></div></div></div></div></div><div class=\"sk-parallel-item\"><div class=\"sk-item\"><div class=\"sk-label-container\"><div class=\"sk-label sk-toggleable\"><input class=\"sk-toggleable__control sk-hidden--visually\" id=\"c2034d31-1f9d-45cc-81c8-90612001d54e\" type=\"checkbox\" ><label for=\"c2034d31-1f9d-45cc-81c8-90612001d54e\" class=\"sk-toggleable__label sk-toggleable__label-arrow\">pipeline-2</label><div class=\"sk-toggleable__content\"><pre>&lt;sklearn.compose._column_transformer.make_column_selector object at 0x7f3237c52c90&gt;</pre></div></div></div><div class=\"sk-serial\"><div class=\"sk-item\"><div class=\"sk-serial\"><div class=\"sk-item\"><div class=\"sk-estimator sk-toggleable\"><input class=\"sk-toggleable__control sk-hidden--visually\" id=\"915d6dd5-139e-4182-b547-91ff3ccd52cf\" type=\"checkbox\" ><label for=\"915d6dd5-139e-4182-b547-91ff3ccd52cf\" class=\"sk-toggleable__label sk-toggleable__label-arrow\">SimpleImputer</label><div class=\"sk-toggleable__content\"><pre>SimpleImputer(strategy=&#x27;most_frequent&#x27;)</pre></div></div></div><div class=\"sk-item\"><div class=\"sk-estimator sk-toggleable\"><input class=\"sk-toggleable__control sk-hidden--visually\" id=\"9bede97b-41ac-4f6e-b4e2-3dbf6321e4bf\" type=\"checkbox\" ><label for=\"9bede97b-41ac-4f6e-b4e2-3dbf6321e4bf\" class=\"sk-toggleable__label sk-toggleable__label-arrow\">OneHotEncoder</label><div class=\"sk-toggleable__content\"><pre>OneHotEncoder(handle_unknown=&#x27;ignore&#x27;, sparse=False)</pre></div></div></div></div></div></div></div></div></div></div></div></div>"
            ]
          },
          "metadata": {},
          "execution_count": 19
        }
      ]
    },
    {
      "cell_type": "code",
      "source": [
        "# transform both the training and testing data (this will output a NumPy array)\n",
        "X_train_processed = preprocessor.transform(X_train)\n",
        "X_test_processed = preprocessor.transform(X_test)"
      ],
      "metadata": {
        "id": "tnnD4b9ScCfr"
      },
      "execution_count": 20,
      "outputs": []
    },
    {
      "cell_type": "code",
      "source": [
        "# Check for missing values and that data is scaled and one-hot encoded\n",
        "print(np.isnan(X_train_processed).sum().sum(), 'missing values in training data')\n",
        "print(np.isnan(X_test_processed).sum().sum(), 'missing values in testing data')\n",
        "print('\\n')\n",
        "print('All data in X_train_processed are', X_train_processed.dtype)\n",
        "print('All data in X_test_processed are', X_test_processed.dtype)\n",
        "print('\\n')\n",
        "print('shape of data is', X_train_processed.shape)\n",
        "print('\\n')\n",
        "\n",
        "X_train_processed"
      ],
      "metadata": {
        "colab": {
          "base_uri": "https://localhost:8080/"
        },
        "id": "tMUShmJcdCJc",
        "outputId": "64866e4e-4207-493f-f2c0-41df6309fdf1"
      },
      "execution_count": 21,
      "outputs": [
        {
          "output_type": "stream",
          "name": "stdout",
          "text": [
            "0 missing values in training data\n",
            "0 missing values in testing data\n",
            "\n",
            "\n",
            "All data in X_train_processed are float64\n",
            "All data in X_test_processed are float64\n",
            "\n",
            "\n",
            "shape of data is (6392, 1593)\n",
            "\n",
            "\n"
          ]
        },
        {
          "output_type": "execute_result",
          "data": {
            "text/plain": [
              "array([[ 0.81724868, -0.71277507,  1.82810922, ...,  0.        ,\n",
              "         1.        ,  0.        ],\n",
              "       [ 0.5563395 , -1.29105225,  0.60336888, ...,  0.        ,\n",
              "         1.        ,  0.        ],\n",
              "       [-0.13151196,  1.81331864,  0.24454056, ...,  1.        ,\n",
              "         0.        ,  0.        ],\n",
              "       ...,\n",
              "       [ 1.11373638, -0.92052713,  1.52302674, ...,  1.        ,\n",
              "         0.        ,  0.        ],\n",
              "       [ 1.76600931, -0.2277552 , -0.38377708, ...,  1.        ,\n",
              "         0.        ,  0.        ],\n",
              "       [ 0.81724868, -0.95867683, -0.73836105, ...,  1.        ,\n",
              "         0.        ,  0.        ]])"
            ]
          },
          "metadata": {},
          "execution_count": 21
        }
      ]
    },
    {
      "cell_type": "markdown",
      "source": [
        "The preprocessed data looks good and ready for use with machine learning model.\n",
        "\n",
        "Yea! No missing data.\n",
        "\n",
        "All train and test data are floats. \n",
        "\n",
        "Training data rows reduced by ~25% from 8523 to 6392; columns increased from 12 to 1591."
      ],
      "metadata": {
        "id": "PU9dTo4yeUnt"
      }
    },
    {
      "cell_type": "markdown",
      "source": [
        "##Linear Regression"
      ],
      "metadata": {
        "id": "V_S0TD1fhJ-r"
      }
    },
    {
      "cell_type": "code",
      "source": [
        "# Make a linear regression model instance\n",
        "lreg = LinearRegression()\n",
        "\n",
        "# fit or train the model on the data; model learns the relationship between X and y\n",
        "lreg.fit(X_train_processed,y_train)"
      ],
      "metadata": {
        "colab": {
          "base_uri": "https://localhost:8080/",
          "height": 75
        },
        "id": "Fr8s_IP5g7ko",
        "outputId": "ae83bf27-a616-4aea-e540-c1a47c3063a8"
      },
      "execution_count": 22,
      "outputs": [
        {
          "output_type": "execute_result",
          "data": {
            "text/plain": [
              "LinearRegression()"
            ],
            "text/html": [
              "<style>#sk-6de03feb-f6f0-463a-b701-08a9404ae141 {color: black;background-color: white;}#sk-6de03feb-f6f0-463a-b701-08a9404ae141 pre{padding: 0;}#sk-6de03feb-f6f0-463a-b701-08a9404ae141 div.sk-toggleable {background-color: white;}#sk-6de03feb-f6f0-463a-b701-08a9404ae141 label.sk-toggleable__label {cursor: pointer;display: block;width: 100%;margin-bottom: 0;padding: 0.3em;box-sizing: border-box;text-align: center;}#sk-6de03feb-f6f0-463a-b701-08a9404ae141 label.sk-toggleable__label-arrow:before {content: \"▸\";float: left;margin-right: 0.25em;color: #696969;}#sk-6de03feb-f6f0-463a-b701-08a9404ae141 label.sk-toggleable__label-arrow:hover:before {color: black;}#sk-6de03feb-f6f0-463a-b701-08a9404ae141 div.sk-estimator:hover label.sk-toggleable__label-arrow:before {color: black;}#sk-6de03feb-f6f0-463a-b701-08a9404ae141 div.sk-toggleable__content {max-height: 0;max-width: 0;overflow: hidden;text-align: left;background-color: #f0f8ff;}#sk-6de03feb-f6f0-463a-b701-08a9404ae141 div.sk-toggleable__content pre {margin: 0.2em;color: black;border-radius: 0.25em;background-color: #f0f8ff;}#sk-6de03feb-f6f0-463a-b701-08a9404ae141 input.sk-toggleable__control:checked~div.sk-toggleable__content {max-height: 200px;max-width: 100%;overflow: auto;}#sk-6de03feb-f6f0-463a-b701-08a9404ae141 input.sk-toggleable__control:checked~label.sk-toggleable__label-arrow:before {content: \"▾\";}#sk-6de03feb-f6f0-463a-b701-08a9404ae141 div.sk-estimator input.sk-toggleable__control:checked~label.sk-toggleable__label {background-color: #d4ebff;}#sk-6de03feb-f6f0-463a-b701-08a9404ae141 div.sk-label input.sk-toggleable__control:checked~label.sk-toggleable__label {background-color: #d4ebff;}#sk-6de03feb-f6f0-463a-b701-08a9404ae141 input.sk-hidden--visually {border: 0;clip: rect(1px 1px 1px 1px);clip: rect(1px, 1px, 1px, 1px);height: 1px;margin: -1px;overflow: hidden;padding: 0;position: absolute;width: 1px;}#sk-6de03feb-f6f0-463a-b701-08a9404ae141 div.sk-estimator {font-family: monospace;background-color: #f0f8ff;border: 1px dotted black;border-radius: 0.25em;box-sizing: border-box;margin-bottom: 0.5em;}#sk-6de03feb-f6f0-463a-b701-08a9404ae141 div.sk-estimator:hover {background-color: #d4ebff;}#sk-6de03feb-f6f0-463a-b701-08a9404ae141 div.sk-parallel-item::after {content: \"\";width: 100%;border-bottom: 1px solid gray;flex-grow: 1;}#sk-6de03feb-f6f0-463a-b701-08a9404ae141 div.sk-label:hover label.sk-toggleable__label {background-color: #d4ebff;}#sk-6de03feb-f6f0-463a-b701-08a9404ae141 div.sk-serial::before {content: \"\";position: absolute;border-left: 1px solid gray;box-sizing: border-box;top: 2em;bottom: 0;left: 50%;}#sk-6de03feb-f6f0-463a-b701-08a9404ae141 div.sk-serial {display: flex;flex-direction: column;align-items: center;background-color: white;padding-right: 0.2em;padding-left: 0.2em;}#sk-6de03feb-f6f0-463a-b701-08a9404ae141 div.sk-item {z-index: 1;}#sk-6de03feb-f6f0-463a-b701-08a9404ae141 div.sk-parallel {display: flex;align-items: stretch;justify-content: center;background-color: white;}#sk-6de03feb-f6f0-463a-b701-08a9404ae141 div.sk-parallel::before {content: \"\";position: absolute;border-left: 1px solid gray;box-sizing: border-box;top: 2em;bottom: 0;left: 50%;}#sk-6de03feb-f6f0-463a-b701-08a9404ae141 div.sk-parallel-item {display: flex;flex-direction: column;position: relative;background-color: white;}#sk-6de03feb-f6f0-463a-b701-08a9404ae141 div.sk-parallel-item:first-child::after {align-self: flex-end;width: 50%;}#sk-6de03feb-f6f0-463a-b701-08a9404ae141 div.sk-parallel-item:last-child::after {align-self: flex-start;width: 50%;}#sk-6de03feb-f6f0-463a-b701-08a9404ae141 div.sk-parallel-item:only-child::after {width: 0;}#sk-6de03feb-f6f0-463a-b701-08a9404ae141 div.sk-dashed-wrapped {border: 1px dashed gray;margin: 0 0.4em 0.5em 0.4em;box-sizing: border-box;padding-bottom: 0.4em;background-color: white;position: relative;}#sk-6de03feb-f6f0-463a-b701-08a9404ae141 div.sk-label label {font-family: monospace;font-weight: bold;background-color: white;display: inline-block;line-height: 1.2em;}#sk-6de03feb-f6f0-463a-b701-08a9404ae141 div.sk-label-container {position: relative;z-index: 2;text-align: center;}#sk-6de03feb-f6f0-463a-b701-08a9404ae141 div.sk-container {/* jupyter's `normalize.less` sets `[hidden] { display: none; }` but bootstrap.min.css set `[hidden] { display: none !important; }` so we also need the `!important` here to be able to override the default hidden behavior on the sphinx rendered scikit-learn.org. See: https://github.com/scikit-learn/scikit-learn/issues/21755 */display: inline-block !important;position: relative;}#sk-6de03feb-f6f0-463a-b701-08a9404ae141 div.sk-text-repr-fallback {display: none;}</style><div id=\"sk-6de03feb-f6f0-463a-b701-08a9404ae141\" class=\"sk-top-container\"><div class=\"sk-text-repr-fallback\"><pre>LinearRegression()</pre><b>Please rerun this cell to show the HTML repr or trust the notebook.</b></div><div class=\"sk-container\" hidden><div class=\"sk-item\"><div class=\"sk-estimator sk-toggleable\"><input class=\"sk-toggleable__control sk-hidden--visually\" id=\"b29d2435-648e-4b8a-896c-c72163ec9dab\" type=\"checkbox\" checked><label for=\"b29d2435-648e-4b8a-896c-c72163ec9dab\" class=\"sk-toggleable__label sk-toggleable__label-arrow\">LinearRegression</label><div class=\"sk-toggleable__content\"><pre>LinearRegression()</pre></div></div></div></div></div>"
            ]
          },
          "metadata": {},
          "execution_count": 22
        }
      ]
    },
    {
      "cell_type": "code",
      "source": [
        "# predict training and test PRICE\n",
        "lreg_train_preds = lreg.predict(X_train_processed)\n",
        "lreg_test_preds = lreg.predict(X_test_processed)"
      ],
      "metadata": {
        "id": "coqppiYJpE-w"
      },
      "execution_count": 23,
      "outputs": []
    },
    {
      "cell_type": "code",
      "source": [
        "# calculate R^2 to determine effectiveness of model\n",
        "lreg_r2_train = r2_score(y_train, lreg_train_preds)\n",
        "lreg_r2_test = r2_score(y_test, lreg_test_preds)\n",
        "print(lreg_r2_train)\n",
        "print(lreg_r2_test)"
      ],
      "metadata": {
        "colab": {
          "base_uri": "https://localhost:8080/"
        },
        "id": "F2avddDypVS-",
        "outputId": "3dff7a1e-07ec-4ae8-cefc-bcb2d757402e"
      },
      "execution_count": 24,
      "outputs": [
        {
          "output_type": "stream",
          "name": "stdout",
          "text": [
            "0.6664056642852452\n",
            "-5.828794128456094e+18\n"
          ]
        }
      ]
    },
    {
      "cell_type": "markdown",
      "source": [
        "Model indicates VERY high variance - OVERFITTING - between training and test performance scores, so poor ability to predict prices using unknown dataset."
      ],
      "metadata": {
        "id": "XdNGjr0juuaG"
      }
    },
    {
      "cell_type": "code",
      "source": [
        "# calculate the RMSE\n",
        "lreg_rmse_train = np.sqrt(mean_squared_error(y_train, lreg_train_preds))\n",
        "lreg_rmse_test = np.sqrt(mean_squared_error(y_test, lreg_test_preds))\n",
        "print(lreg_rmse_train)\n",
        "print(lreg_rmse_test)"
      ],
      "metadata": {
        "colab": {
          "base_uri": "https://localhost:8080/"
        },
        "id": "oNI254-zp13R",
        "outputId": "b4c7c081-74b9-405a-df66-f79c6abe377a"
      },
      "execution_count": 25,
      "outputs": [
        {
          "output_type": "stream",
          "name": "stdout",
          "text": [
            "993.6084036625189\n",
            "4010175883388.551\n"
          ]
        }
      ]
    },
    {
      "cell_type": "markdown",
      "source": [
        "The linear regression RMSE results are way off here for both the preprocessed training and test dataset predicted PRICE."
      ],
      "metadata": {
        "id": "XsxG2Jm2vmEV"
      }
    },
    {
      "cell_type": "markdown",
      "source": [
        "##Bagging Regressor"
      ],
      "metadata": {
        "id": "QcXwLKkdukJG"
      }
    },
    {
      "cell_type": "code",
      "source": [
        "# instantiate the model\n",
        "bagreg = BaggingRegressor(random_state = 42)\n",
        "\n",
        "# Looking at some parameters to tweak\n",
        "bagreg.get_params()"
      ],
      "metadata": {
        "colab": {
          "base_uri": "https://localhost:8080/"
        },
        "id": "gHSlBXwUuE8Y",
        "outputId": "ce78ba52-806e-4b26-8a30-54e72880502a"
      },
      "execution_count": 26,
      "outputs": [
        {
          "output_type": "execute_result",
          "data": {
            "text/plain": [
              "{'base_estimator': None,\n",
              " 'bootstrap': True,\n",
              " 'bootstrap_features': False,\n",
              " 'max_features': 1.0,\n",
              " 'max_samples': 1.0,\n",
              " 'n_estimators': 10,\n",
              " 'n_jobs': None,\n",
              " 'oob_score': False,\n",
              " 'random_state': 42,\n",
              " 'verbose': 0,\n",
              " 'warm_start': False}"
            ]
          },
          "metadata": {},
          "execution_count": 26
        }
      ]
    },
    {
      "cell_type": "code",
      "source": [
        "# fit/train model on data\n",
        "bagreg.fit(X_train_processed, y_train)\n",
        "\n",
        "# see predicted values\n",
        "bagreg_train_preds = bagreg.predict(X_train_processed)\n",
        "bagreg_test_preds = bagreg.predict(X_test_processed)\n",
        "\n",
        "# calculate new r2 for training and test data\n",
        "bagreg_r2_train = r2_score(y_train, bagreg_train_preds)\n",
        "bagreg_r2_test = r2_score(y_test, bagreg_test_preds)\n",
        "print('Bagging Regressor')\n",
        "print('R2 scores:')\n",
        "print(bagreg_r2_train)\n",
        "print(bagreg_r2_test)\n",
        "print('\\n')\n",
        "\n",
        "# calculate the RMSE\n",
        "bagreg_rmse_train = np.sqrt(mean_squared_error(y_train, bagreg_train_preds))\n",
        "bagreg_rmse_test = np.sqrt(mean_squared_error(y_test, bagreg_test_preds))\n",
        "print('RMSE values')\n",
        "print(bagreg_rmse_train)\n",
        "print(bagreg_rmse_test)"
      ],
      "metadata": {
        "colab": {
          "base_uri": "https://localhost:8080/"
        },
        "id": "iIZWJEtf4DmT",
        "outputId": "d8b2122e-85dd-4a96-832d-40f90775f590"
      },
      "execution_count": 27,
      "outputs": [
        {
          "output_type": "stream",
          "name": "stdout",
          "text": [
            "Bagging Regressor\n",
            "R2 scores:\n",
            "0.9190341708866963\n",
            "0.5363350053163926\n",
            "\n",
            "\n",
            "RMSE values\n",
            "489.5046320935987\n",
            "1131.0354501442764\n"
          ]
        }
      ]
    },
    {
      "cell_type": "markdown",
      "source": [
        "Bagging Regressor improves model performance, but still VERY high variance - OVERFITTING issue."
      ],
      "metadata": {
        "id": "ZPBD58Kh9EfH"
      }
    },
    {
      "cell_type": "code",
      "source": [
        "# instantiate the model\n",
        "rf = RandomForestRegressor(max_depth=10, random_state = 42)\n",
        "\n",
        "# Looking at some parameters to tweak\n",
        "rf.get_params()"
      ],
      "metadata": {
        "colab": {
          "base_uri": "https://localhost:8080/"
        },
        "id": "5xP8nyWQ8Jui",
        "outputId": "4b38ac7d-509b-4a7a-e90a-1fe7d9e1532c"
      },
      "execution_count": 28,
      "outputs": [
        {
          "output_type": "execute_result",
          "data": {
            "text/plain": [
              "{'bootstrap': True,\n",
              " 'ccp_alpha': 0.0,\n",
              " 'criterion': 'squared_error',\n",
              " 'max_depth': 10,\n",
              " 'max_features': 'auto',\n",
              " 'max_leaf_nodes': None,\n",
              " 'max_samples': None,\n",
              " 'min_impurity_decrease': 0.0,\n",
              " 'min_samples_leaf': 1,\n",
              " 'min_samples_split': 2,\n",
              " 'min_weight_fraction_leaf': 0.0,\n",
              " 'n_estimators': 100,\n",
              " 'n_jobs': None,\n",
              " 'oob_score': False,\n",
              " 'random_state': 42,\n",
              " 'verbose': 0,\n",
              " 'warm_start': False}"
            ]
          },
          "metadata": {},
          "execution_count": 28
        }
      ]
    },
    {
      "cell_type": "code",
      "source": [
        "# fit/train model on data\n",
        "rf.fit(X_train_processed, y_train)\n",
        "\n",
        "# see predicted values\n",
        "rf_train_preds = rf.predict(X_train_processed)\n",
        "rf_test_preds = rf.predict(X_test_processed)\n",
        "\n",
        "# calculate new r2 for training and test data\n",
        "rf_r2_train = r2_score(y_train, rf_train_preds)\n",
        "rf_r2_test = r2_score(y_test, rf_test_preds)\n",
        "print('Random Forest Regressor')\n",
        "print('R2 scores:')\n",
        "print(rf_r2_train)\n",
        "print(rf_r2_test)\n",
        "print('\\n')\n",
        "\n",
        "# calculate the RMSE\n",
        "rf_rmse_train = np.sqrt(mean_squared_error(y_train, rf_train_preds))\n",
        "rf_rmse_test = np.sqrt(mean_squared_error(y_test, rf_test_preds))\n",
        "print('RMSE values')\n",
        "print(rf_rmse_train)\n",
        "print(rf_rmse_test)"
      ],
      "metadata": {
        "colab": {
          "base_uri": "https://localhost:8080/"
        },
        "id": "h7uTbJpQ8X-E",
        "outputId": "1d5ce3d5-5688-4a02-b9af-cb36a795f322"
      },
      "execution_count": 29,
      "outputs": [
        {
          "output_type": "stream",
          "name": "stdout",
          "text": [
            "Random Forest Regressor\n",
            "R2 scores:\n",
            "0.686947922168761\n",
            "0.5966330362655939\n",
            "\n",
            "\n",
            "RMSE values\n",
            "962.5298735891539\n",
            "1054.931415588121\n"
          ]
        }
      ]
    },
    {
      "cell_type": "markdown",
      "source": [
        "Random Forest Regressor decreased variance considerably, but bias increased.  This is the model performance trade-off and I'll take it!!"
      ],
      "metadata": {
        "id": "6IfGEmzro9d3"
      }
    },
    {
      "cell_type": "markdown",
      "source": [
        "##Visualizations"
      ],
      "metadata": {
        "id": "nMrd63grrmg-"
      }
    },
    {
      "cell_type": "code",
      "source": [
        "# created barplot to visually explain amount of sales per outlet type\n",
        "\n",
        "# plot multiple data variables on a single chart\n",
        "sns.barplot(data=df, x='Outlet_Type', y='Item_Outlet_Sales')\n",
        "plt.grid()\n",
        "plt.xticks(rotation=45)\n",
        "plt.title(\"Amount in Sales per Store/Outlet Type\");"
      ],
      "metadata": {
        "colab": {
          "base_uri": "https://localhost:8080/",
          "height": 362
        },
        "id": "uYTJ5cvprhZX",
        "outputId": "aeec93de-d264-4e43-db6c-f0b451ef6ad9"
      },
      "execution_count": 30,
      "outputs": [
        {
          "output_type": "display_data",
          "data": {
            "text/plain": [
              "<Figure size 432x288 with 1 Axes>"
            ],
            "image/png": "[encoded data removed]"
          },
          "metadata": {
            "needs_background": "light"
          }
        }
      ]
    },
    {
      "cell_type": "code",
      "source": [
        "# line plot\n",
        "\n",
        "# lines with legend\n",
        "sns.lineplot(x = df['Item_Type'], y = df['Item_Outlet_Sales'], color = 'blue', label='Item Type')\n",
        "plt.grid()\n",
        "plt.legend()\n",
        "plt.title('Sales by Item')\n",
        "plt.xticks(rotation=90);"
      ],
      "metadata": {
        "colab": {
          "base_uri": "https://localhost:8080/",
          "height": 394
        },
        "id": "doxjXW1sruYm",
        "outputId": "f5a131b4-3c6d-4768-ae33-04beacf3ce25"
      },
      "execution_count": 31,
      "outputs": [
        {
          "output_type": "display_data",
          "data": {
            "text/plain": [
              "<Figure size 432x288 with 1 Axes>"
            ],
            "image/png": "[encoded data removed]"
          },
          "metadata": {
            "needs_background": "light"
          }
        }
      ]
    }
  ]
}